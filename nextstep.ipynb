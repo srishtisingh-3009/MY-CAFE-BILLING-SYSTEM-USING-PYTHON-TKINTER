{
 "cells": [
  {
   "cell_type": "code",
   "execution_count": null,
   "metadata": {},
   "outputs": [],
   "source": [
    "from tkinter import *\n",
    "import import_ipynb\n",
    "root1=Tk()\n",
    "root1.geometry(\"1150x500\")\n",
    "root1.title(\"SELECT\")\n",
    "root1.config(bg=\"#040724\")\n",
    "root1.iconbitmap(\"C:\\\\Users\\\\dell\")\n",
    "\n",
    "def fun1():\n",
    "    root1.destroy()\n",
    "    import my_restaurant\n",
    "def fun2():\n",
    "    root1.destroy()\n",
    "    import change_price\n",
    " \n",
    "\n",
    "m=Label(root1,text=\"Choose To Further Continue!\",font=(\"Helvetica\",28,\"bold\"),bg=\"#040724\",fg=\"white\")\n",
    "m.place(x=0,y=0,relwidth=1)\n",
    "\n",
    "f=Frame(root1,bg=\"white\")\n",
    "f.place(x=170,y=150)\n",
    "\n",
    "l1=Label(f,text=\"Do you want to get the bill?\",bg=\"white\",fg=\"black\",font=(\"Helvetica\",24,\"bold\"))\n",
    "l1.grid(row=0,column=0,padx=20,pady=10)\n",
    "b1=Button(f,text=\"YES\",font=(\"Helvetica\",24,\"bold\"),relief=GROOVE,bg=\"#b38012\",fg=\"white\", command=fun1)\n",
    "b1.grid(row=0,column=1,padx=20,pady=10)\n",
    "\n",
    "l2=Label(f,text=\"Do you want to change the prices of items?\",bg=\"white\",fg=\"black\",font=(\"Helvetica\",24,\"bold\"))\n",
    "l2.grid(row=1,column=0,padx=20,pady=10)\n",
    "b2=Button(f,text=\"YES\",font=(\"Helvetica\",24,\"bold\"),relief=GROOVE,bg=\"#b38012\",fg=\"white\",command=fun2)\n",
    "b2.grid(row=1,column=1,padx=20,pady=10)\n",
    "\n",
    "root1.mainloop()"
   ]
  },
  {
   "cell_type": "code",
   "execution_count": null,
   "metadata": {},
   "outputs": [],
   "source": []
  }
 ],
 "metadata": {
  "kernelspec": {
   "display_name": "Python 3",
   "language": "python",
   "name": "python3"
  },
  "language_info": {
   "codemirror_mode": {
    "name": "ipython",
    "version": 3
   },
   "file_extension": ".py",
   "mimetype": "text/x-python",
   "name": "python",
   "nbconvert_exporter": "python",
   "pygments_lexer": "ipython3",
   "version": "3.7.6"
  }
 },
 "nbformat": 4,
 "nbformat_minor": 4
}
