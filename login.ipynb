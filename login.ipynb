{
 "cells": [
  {
   "cell_type": "code",
   "execution_count": null,
   "metadata": {},
   "outputs": [],
   "source": [
    "pip install pillow"
   ]
  },
  {
   "cell_type": "code",
   "execution_count": 1,
   "metadata": {},
   "outputs": [
    {
     "name": "stdout",
     "output_type": "stream",
     "text": [
      "importing Jupyter notebook from nextstep.ipynb\n",
      "importing Jupyter notebook from my_restaurant.ipynb\n"
     ]
    },
    {
     "name": "stderr",
     "output_type": "stream",
     "text": [
      "Exception in Tkinter callback\n",
      "Traceback (most recent call last):\n",
      "  File \"C:\\Users\\Dell\\anaconda3\\lib\\tkinter\\__init__.py\", line 1705, in __call__\n",
      "    return self.func(*args)\n",
      "  File \"<string>\", line 211, in refer\n",
      "ValueError: could not convert string to float: \n",
      "Exception in Tkinter callback\n",
      "Traceback (most recent call last):\n",
      "  File \"C:\\Users\\Dell\\anaconda3\\lib\\tkinter\\__init__.py\", line 1705, in __call__\n",
      "    return self.func(*args)\n",
      "  File \"<string>\", line 211, in refer\n",
      "ValueError: could not convert string to float: \n"
     ]
    }
   ],
   "source": [
    "from tkinter import *\n",
    "from tkinter import messagebox\n",
    "from PIL import ImageTk\n",
    "import import_ipynb\n",
    "root=Tk()\n",
    "root.title(\"Login System\")\n",
    "root.geometry(\"1350x700\")\n",
    "root.iconbitmap(\"C:\\\\Users\\\\dell\")\n",
    "        \n",
    "user_icon=PhotoImage(file=\"img/user.png\")\n",
    "pass_icon=PhotoImage(file=\"img/pass.png\")\n",
    "logo=PhotoImage(file=\"img/logo.png\")\n",
    "\n",
    "def fun1():\n",
    "    if username.get()==\"\" or  password.get()==\"\":\n",
    "        messagebox.showerror(\"Error\",\"All fields are required!\")\n",
    "    elif username.get()==\"srishti\" and  password.get()==\"1234\":\n",
    "        messagebox.showinfo(\"Successfull Login\",f\"Welcome {username.get()}\")\n",
    "        root.destroy()\n",
    "        import nextstep\n",
    "    else:\n",
    "        u.delete(0,END)\n",
    "        p.delete(0,END)\n",
    "        messagebox.showerror(\"Error\",\"Invalid Username or Password\")\n",
    "       \n",
    "        \n",
    "def fun2():\n",
    "    root.destroy()\n",
    "\n",
    "username=StringVar()\n",
    "password=StringVar()\n",
    "        \n",
    "title=Label(root,text=\"Please Login First!\",font=(\"times new roman\",30,\"bold\"),bg=\"#1b0638\",fg=\"white\",bd=10,relief=GROOVE)\n",
    "title.place(x=0,y=0,relwidth=1)\n",
    "        \n",
    "Login_Frame=Frame(root,bg=\"white\")\n",
    "Login_Frame.place(x=400,y=150)\n",
    "        \n",
    "logolbl=Label(Login_Frame,image=logo,bd=0).grid(row=0,columnspan=2,pady=20)\n",
    "\n",
    "lbluser=Label(Login_Frame,text=\"Username:\",image=user_icon,compound=LEFT,font=(\"times new roman\",20,\"bold\")).grid(row=1,column=0,padx=20,pady=10)\n",
    "u=Entry(Login_Frame,bd=5,relief=GROOVE,textvariable=username,font=(\"\",15))\n",
    "u.grid(row=1,column=1,padx=20)\n",
    "\n",
    "lblpass=Label(Login_Frame,text=\"Password:\",image=pass_icon,compound=LEFT,font=(\"times new roman\",20,\"bold\")).grid(row=2,column=0,padx=20,pady=10)\n",
    "p=Entry(Login_Frame,bd=5,show=\"*\",relief=GROOVE,textvariable=password,font=(\"\",15))\n",
    "p.grid(row=2,column=1,padx=20)\n",
    "\n",
    "btn1=Button(Login_Frame,text=\"Login!\",relief=GROOVE,width=15,font=(\"times new roman\",18,\"bold\"),bg=\"#756b13\",fg=\"white\",command=fun1).grid(row=3,column=0,pady=10)\n",
    "btn2=Button(Login_Frame,text=\"Exit!\",relief=GROOVE,width=15,font=(\"times new roman\",18,\"bold\"),bg=\"#756b13\",fg=\"white\",command=fun2).grid(row=3,column=1,pady=10)\n",
    "\n",
    "root.mainloop()"
   ]
  },
  {
   "cell_type": "code",
   "execution_count": null,
   "metadata": {},
   "outputs": [],
   "source": []
  },
  {
   "cell_type": "code",
   "execution_count": null,
   "metadata": {},
   "outputs": [],
   "source": []
  }
 ],
 "metadata": {
  "kernelspec": {
   "display_name": "Python 3",
   "language": "python",
   "name": "python3"
  },
  "language_info": {
   "codemirror_mode": {
    "name": "ipython",
    "version": 3
   },
   "file_extension": ".py",
   "mimetype": "text/x-python",
   "name": "python",
   "nbconvert_exporter": "python",
   "pygments_lexer": "ipython3",
   "version": "3.7.6"
  }
 },
 "nbformat": 4,
 "nbformat_minor": 4
}
